{
  "nbformat": 4,
  "nbformat_minor": 0,
  "metadata": {
    "colab": {
      "provenance": [],
      "include_colab_link": true
    },
    "kernelspec": {
      "name": "python3",
      "display_name": "Python 3"
    },
    "language_info": {
      "name": "python"
    }
  },
  "cells": [
    {
      "cell_type": "markdown",
      "metadata": {
        "id": "view-in-github",
        "colab_type": "text"
      },
      "source": [
        "<a href=\"https://colab.research.google.com/github/kaggle-Challenge-Team-9/Kaggle_challenge/blob/main/Kaggle_challenge.ipynb\" target=\"_parent\"><img src=\"https://colab.research.google.com/assets/colab-badge.svg\" alt=\"Open In Colab\"/></a>"
      ]
    },
    {
      "cell_type": "code",
      "execution_count": null,
      "metadata": {
        "id": "fGhOZGTNrhn7"
      },
      "outputs": [],
      "source": [
        "import pandas as pd\n",
        "import numpy as np\n",
        "training_data =\n",
        "train = pd.read_csv(training_data)\n",
        "train.head()\n",
        "data = 'https://raw.githubusercontent.com/kaggle-Challenge-Team-9/Kaggle_challenge/main/README.md'"
      ]
    },
    {
      "cell_type": "code",
      "source": [
        "test_data =\n",
        "test = pd.read_csv()\n",
        "test.head()\n"
      ],
      "metadata": {
        "id": "Ksl-kXSRhuvc"
      },
      "execution_count": null,
      "outputs": []
    },
    {
      "cell_type": "code",
      "source": [
        "import missingno as msno\n",
        "# showing missing values :\n",
        "msno.matrix(train,figsize=(10,5),fontsize=10)\n",
        "msno.matrix(test,figsize=(10,5),fontsize=9)\n",
        "\n",
        "# [show any other EDA plots you find useful here]\n"
      ],
      "metadata": {
        "id": "lBpTW1VLnlJY"
      },
      "execution_count": null,
      "outputs": []
    },
    {
      "cell_type": "code",
      "source": [
        "# Prerocessing\n"
      ],
      "metadata": {
        "id": "dFaEPIFKo7Nx"
      },
      "execution_count": null,
      "outputs": []
    },
    {
      "cell_type": "code",
      "source": [
        "#Analysis & XAI\n"
      ],
      "metadata": {
        "id": "rLIgoxrJo-6O"
      },
      "execution_count": null,
      "outputs": []
    },
    {
      "cell_type": "code",
      "source": [
        "#Submission\n",
        "from google.collab import files\n",
        "# Prepare the kaggle submission file\n",
        "submission = pd.Dataframe({'Passenger Id' : test['PassengerId'], 'Transported': y_pred})\n",
        "#Convert 0s and 1s to \"False\" and \"True\"\n",
        "submission.replace({0:False, 1: True}, inplace=True)\n",
        "#Write the dataFrame to a .csv file\n",
        "submission.to_csv('submission_Test.csv', index=False)\n",
        "#Download the .csv file\n",
        "files.download(\"submission_Test.csv\")"
      ],
      "metadata": {
        "id": "RYjeJxnCpOdX"
      },
      "execution_count": null,
      "outputs": []
    }
  ]
}